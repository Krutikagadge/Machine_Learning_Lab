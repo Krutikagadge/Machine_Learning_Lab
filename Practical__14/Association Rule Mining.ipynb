{
 "cells": [
  {
   "cell_type": "code",
   "execution_count": 1,
   "id": "d7f50086-e682-465c-ad4a-8d42a08f3a9d",
   "metadata": {},
   "outputs": [],
   "source": [
    "import pandas as pd\n",
    "from mlxtend.frequent_patterns import apriori, association_rules"
   ]
  },
  {
   "cell_type": "code",
   "execution_count": 2,
   "id": "4ccea227-da52-420d-ad70-97155a00490f",
   "metadata": {},
   "outputs": [],
   "source": [
    "dataset = [\n",
    "    ['Milk', 'Bread', 'Nuts','Apple'],\n",
    "    ['Milk', 'Bread','Nuts'],\n",
    "    ['Milk', 'Bread'],\n",
    "    ['Milk', 'Apple'],\n",
    "    ['Bread', 'Apple'],\n",
    "    ['Milk', 'Bread', 'Apple'],\n",
    "    ['Milk', 'Bread', 'Apple'],\n",
    "    ['Bread', 'Nuts']\n",
    "]\n"
   ]
  },
  {
   "cell_type": "code",
   "execution_count": 3,
   "id": "ca505faf-0e33-4eae-aff7-6afd7046a3c4",
   "metadata": {},
   "outputs": [],
   "source": [
    "from mlxtend.preprocessing import TransactionEncoder"
   ]
  },
  {
   "cell_type": "code",
   "execution_count": 4,
   "id": "00ae37de-475f-4bd4-b757-91d060858c76",
   "metadata": {},
   "outputs": [
    {
     "name": "stdout",
     "output_type": "stream",
     "text": [
      "One-hot encoded data:\n",
      "    Apple  Bread   Milk   Nuts\n",
      "0   True   True   True   True\n",
      "1  False   True   True   True\n",
      "2  False   True   True  False\n",
      "3   True  False   True  False\n",
      "4   True   True  False  False\n",
      "5   True   True   True  False\n",
      "6   True   True   True  False\n",
      "7  False   True  False   True\n"
     ]
    }
   ],
   "source": [
    "te = TransactionEncoder()\n",
    "te_ary = te.fit(dataset).transform(dataset)\n",
    "df = pd.DataFrame(te_ary, columns=te.columns_)\n",
    "\n",
    "print(\"One-hot encoded data:\\n\", df)"
   ]
  },
  {
   "cell_type": "code",
   "execution_count": 5,
   "id": "3fd5d232-c149-4f4f-bfd7-c037822b62ba",
   "metadata": {},
   "outputs": [
    {
     "name": "stdout",
     "output_type": "stream",
     "text": [
      "Frequent Itemsets:\n",
      "    support              itemsets\n",
      "0    0.625               (Apple)\n",
      "1    0.875               (Bread)\n",
      "2    0.750                (Milk)\n",
      "3    0.375                (Nuts)\n",
      "4    0.500        (Bread, Apple)\n",
      "5    0.500         (Milk, Apple)\n",
      "6    0.625         (Milk, Bread)\n",
      "7    0.375         (Bread, Nuts)\n",
      "8    0.375  (Milk, Bread, Apple)\n"
     ]
    }
   ],
   "source": [
    "frequent_itemsets = apriori(df, min_support=0.3, use_colnames=True)\n",
    "print(\"Frequent Itemsets:\\n\", frequent_itemsets)"
   ]
  },
  {
   "cell_type": "code",
   "execution_count": 7,
   "id": "d6ac2f7a-caf9-45a7-a842-5a03abdf7e22",
   "metadata": {},
   "outputs": [
    {
     "name": "stdout",
     "output_type": "stream",
     "text": [
      "Association Rules:\n",
      "       antecedents     consequents  support  confidence      lift\n",
      "0          (Milk)         (Apple)    0.500    0.666667  1.066667\n",
      "1         (Apple)          (Milk)    0.500    0.800000  1.066667\n",
      "2         (Bread)          (Nuts)    0.375    0.428571  1.142857\n",
      "3          (Nuts)         (Bread)    0.375    1.000000  1.142857\n",
      "4  (Bread, Apple)          (Milk)    0.375    0.750000  1.000000\n",
      "5          (Milk)  (Bread, Apple)    0.375    0.500000  1.000000\n"
     ]
    }
   ],
   "source": [
    "rules = association_rules(frequent_itemsets, metric=\"lift\", min_threshold=1.0)\n",
    "print(\"Association Rules:\\n\", rules[['antecedents', 'consequents', 'support', 'confidence', 'lift']])"
   ]
  },
  {
   "cell_type": "code",
   "execution_count": 8,
   "id": "562981a0-e828-4d40-ba56-8daf7d7f3161",
   "metadata": {},
   "outputs": [
    {
     "name": "stdout",
     "output_type": "stream",
     "text": [
      "Association Rules:\n",
      "       antecedents     consequents  support  confidence      lift\n",
      "2         (Bread)          (Nuts)    0.375    0.428571  1.142857\n",
      "3          (Nuts)         (Bread)    0.375    1.000000  1.142857\n",
      "0          (Milk)         (Apple)    0.500    0.666667  1.066667\n",
      "1         (Apple)          (Milk)    0.500    0.800000  1.066667\n",
      "4  (Bread, Apple)          (Milk)    0.375    0.750000  1.000000\n",
      "5          (Milk)  (Bread, Apple)    0.375    0.500000  1.000000\n"
     ]
    }
   ],
   "source": [
    "rules = rules.sort_values(by = 'lift', ascending = False)\n",
    "print(\"Association Rules:\\n\", rules[['antecedents', 'consequents', 'support', 'confidence', 'lift']])"
   ]
  },
  {
   "cell_type": "code",
   "execution_count": null,
   "id": "4c44fa57-8e15-4491-b849-d2633e3e679d",
   "metadata": {},
   "outputs": [],
   "source": []
  }
 ],
 "metadata": {
  "kernelspec": {
   "display_name": "Python 3 (ipykernel)",
   "language": "python",
   "name": "python3"
  },
  "language_info": {
   "codemirror_mode": {
    "name": "ipython",
    "version": 3
   },
   "file_extension": ".py",
   "mimetype": "text/x-python",
   "name": "python",
   "nbconvert_exporter": "python",
   "pygments_lexer": "ipython3",
   "version": "3.12.8"
  }
 },
 "nbformat": 4,
 "nbformat_minor": 5
}
