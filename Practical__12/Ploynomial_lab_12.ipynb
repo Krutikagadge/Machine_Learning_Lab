{
  "cells": [
    {
      "cell_type": "code",
      "execution_count": null,
      "id": "bce65a01-2b66-41aa-ac4f-63a3eb5b656c",
      "metadata": {
        "id": "bce65a01-2b66-41aa-ac4f-63a3eb5b656c"
      },
      "outputs": [],
      "source": [
        "import numpy as np\n",
        "from sklearn.metrics import mean_absolute_error, mean_squared_error, r2_score"
      ]
    },
    {
      "cell_type": "code",
      "source": [
        "x = np.array([1, 2, 3, 4, 5]).reshape(-1, 1)\n",
        "y = np.array([20, 40, 50, 65, 80])"
      ],
      "metadata": {
        "id": "p8-2Ne4Vy7KI"
      },
      "id": "p8-2Ne4Vy7KI",
      "execution_count": null,
      "outputs": []
    },
    {
      "cell_type": "code",
      "source": [
        "X_manual = np.column_stack((np.ones(len(x)), x, x**2))"
      ],
      "metadata": {
        "id": "toS8Pn_py9Hf"
      },
      "id": "toS8Pn_py9Hf",
      "execution_count": null,
      "outputs": []
    },
    {
      "cell_type": "code",
      "source": [
        "beta = np.linalg.inv(X_manual.T @ X_manual) @ (X_manual.T @ y)\n",
        "print(\"Coefficients (β0, β1, β2):\", beta)"
      ],
      "metadata": {
        "colab": {
          "base_uri": "https://localhost:8080/"
        },
        "id": "Jt22vpPNy_zt",
        "outputId": "c36efb67-2d84-4e76-bad3-17803b933916"
      },
      "id": "Jt22vpPNy_zt",
      "execution_count": null,
      "outputs": [
        {
          "output_type": "stream",
          "name": "stdout",
          "text": [
            "Coefficients (β0, β1, β2): [ 5.         16.64285714 -0.35714286]\n"
          ]
        }
      ]
    },
    {
      "cell_type": "code",
      "source": [
        "y_pred_manual = X_manual @ beta"
      ],
      "metadata": {
        "id": "viwoUREhzBXW"
      },
      "id": "viwoUREhzBXW",
      "execution_count": null,
      "outputs": []
    },
    {
      "cell_type": "code",
      "source": [
        "mae = mean_absolute_error(y, y_pred_manual)\n",
        "mse = mean_squared_error(y, y_pred_manual)\n",
        "rmse = np.sqrt(mse)\n",
        "r2 = r2_score(y, y_pred_manual)\n",
        "\n",
        "print(\"Mean Absolute Error:\", mae)\n",
        "print(\"Mean Squared Error:\", mse)\n",
        "print(\"Root Mean Squared Error:\", rmse)\n",
        "print(\"R² Score:\", r2)"
      ],
      "metadata": {
        "colab": {
          "base_uri": "https://localhost:8080/"
        },
        "id": "51twQ7F5zC5l",
        "outputId": "5d93af1b-313c-468f-ee6e-a9da6166080d"
      },
      "id": "51twQ7F5zC5l",
      "execution_count": null,
      "outputs": [
        {
          "output_type": "stream",
          "name": "stdout",
          "text": [
            "Mean Absolute Error: 1.5428571428571765\n",
            "Mean Squared Error: 3.142857142857151\n",
            "Root Mean Squared Error: 1.772810520855839\n",
            "R² Score: 0.9925876010781671\n"
          ]
        }
      ]
    },
    {
      "cell_type": "code",
      "source": [],
      "metadata": {
        "id": "_GBWTjevzDiF"
      },
      "id": "_GBWTjevzDiF",
      "execution_count": null,
      "outputs": []
    }
  ],
  "metadata": {
    "kernelspec": {
      "display_name": "Python [conda env:base] *",
      "language": "python",
      "name": "conda-base-py"
    },
    "language_info": {
      "codemirror_mode": {
        "name": "ipython",
        "version": 3
      },
      "file_extension": ".py",
      "mimetype": "text/x-python",
      "name": "python",
      "nbconvert_exporter": "python",
      "pygments_lexer": "ipython3",
      "version": "3.12.7"
    },
    "colab": {
      "provenance": []
    }
  },
  "nbformat": 4,
  "nbformat_minor": 5
}