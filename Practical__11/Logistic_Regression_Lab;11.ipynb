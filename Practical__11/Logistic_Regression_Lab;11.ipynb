{
  "nbformat": 4,
  "nbformat_minor": 0,
  "metadata": {
    "colab": {
      "provenance": []
    },
    "kernelspec": {
      "name": "python3",
      "display_name": "Python 3"
    },
    "language_info": {
      "name": "python"
    }
  },
  "cells": [
    {
      "cell_type": "code",
      "execution_count": null,
      "metadata": {
        "id": "fxYSDExs1z6N"
      },
      "outputs": [],
      "source": [
        "import numpy as np\n",
        "import pandas as pd\n",
        "import matplotlib.pyplot as plt"
      ]
    },
    {
      "cell_type": "code",
      "source": [
        "x=np.array([1.,2.,3.,4.,5.])\n",
        "y=np.array([0.,0.,0.,1.,1.])\n",
        "m=len(y)"
      ],
      "metadata": {
        "id": "i8ys8SQ22RFM"
      },
      "execution_count": null,
      "outputs": []
    },
    {
      "cell_type": "code",
      "source": [
        "def sigmoid(z):\n",
        "  return 1.0/(1.0 + np.exp(-z))"
      ],
      "metadata": {
        "id": "9iC6gUx62q5h"
      },
      "execution_count": null,
      "outputs": []
    },
    {
      "cell_type": "code",
      "source": [
        "b0=0.0\n",
        "b1=0.0\n",
        "alpha=0.1"
      ],
      "metadata": {
        "id": "_rSLRh2t22Ha"
      },
      "execution_count": null,
      "outputs": []
    },
    {
      "cell_type": "code",
      "source": [
        "z=b0+b1*x\n",
        "h=sigmoid(z)\n",
        "eps=1e-15\n",
        "initial_cost=-(1.0/m)*np.sum(y*np.log(h+eps)+(1-y)*np.log(1-h+eps))"
      ],
      "metadata": {
        "id": "EoJFgcGh277o"
      },
      "execution_count": null,
      "outputs": []
    },
    {
      "cell_type": "code",
      "source": [
        "print(\"Initial h: \",h)\n",
        "print(\"initial_cost h: \",initial_cost)"
      ],
      "metadata": {
        "colab": {
          "base_uri": "https://localhost:8080/"
        },
        "id": "g1nyqtrW3rzA",
        "outputId": "0ddd9daa-8c18-4f4c-f4ab-1d0ebb9ff9e4"
      },
      "execution_count": null,
      "outputs": [
        {
          "output_type": "stream",
          "name": "stdout",
          "text": [
            "Initial h:  [0.5 0.5 0.5 0.5 0.5]\n",
            "initial_cost h:  0.6931471805599433\n"
          ]
        }
      ]
    },
    {
      "cell_type": "code",
      "source": [
        "#Gradient at initial params\n",
        "h_minus_y=h-y\n",
        "grad_b0=np.mean(h_minus_y)\n",
        "grad_b1=np.mean(h_minus_y*x)\n",
        "print(\"grad_b0: \",grad_b0)\n",
        "print(\"grad_b1: \",grad_b1)"
      ],
      "metadata": {
        "colab": {
          "base_uri": "https://localhost:8080/"
        },
        "id": "u7Ft3xt34Dag",
        "outputId": "997dcee1-6d7a-4110-d788-40c7f92687be"
      },
      "execution_count": null,
      "outputs": [
        {
          "output_type": "stream",
          "name": "stdout",
          "text": [
            "grad_b0:  0.1\n",
            "grad_b1:  -0.3\n"
          ]
        }
      ]
    },
    {
      "cell_type": "code",
      "source": [
        "#One gradient descent update\n",
        "b0_new=b0-alpha*grad_b0\n",
        "b1_new=b1-alpha*grad_b1\n",
        "print(\"b0_new: \",b0_new)\n",
        "print(\"b1_new: \",b1_new)"
      ],
      "metadata": {
        "colab": {
          "base_uri": "https://localhost:8080/"
        },
        "id": "ZXHDlm5P4hQf",
        "outputId": "e9493374-1b74-485e-aae0-da7fc52f93b5"
      },
      "execution_count": null,
      "outputs": [
        {
          "output_type": "stream",
          "name": "stdout",
          "text": [
            "b0_new:  -0.010000000000000002\n",
            "b1_new:  0.03\n"
          ]
        }
      ]
    },
    {
      "cell_type": "code",
      "source": [
        "#Run gradient descent\n",
        "b0,b1=0.0,0.0\n",
        "n_iter=200\n",
        "history=[]\n",
        "for it in range(n_iter):\n",
        "  z=b0+b1*x\n",
        "  h=sigmoid(z)\n",
        "  grad_b0=np.mean(h-y)\n",
        "  grad_b1=np.mean((h-y)*x)\n",
        "  cost=-(1.0/m)*np.sum(y*np.log(h+eps)+(1-y)*np.log(1-h+eps))\n",
        "  history.append((it,b0,b1,cost))\n",
        "  b0 -= alpha*grad_b0\n",
        "  b1 -= alpha*grad_b1"
      ],
      "metadata": {
        "id": "Zg6UY3xt4z7v"
      },
      "execution_count": null,
      "outputs": []
    },
    {
      "cell_type": "code",
      "source": [
        "print(\"\\nFinal parameters after {} iterations:\".format(n_iter))\n",
        "print(\"b0: \",b0)\n",
        "print(\"b1: \",b1)\n",
        "decision_boundary=-b0/b1\n",
        "print(\"Decision boundary: \",decision_boundary)\n",
        "print(\"final cost J =\",history[-1][3])"
      ],
      "metadata": {
        "colab": {
          "base_uri": "https://localhost:8080/"
        },
        "id": "k9iutRk95He4",
        "outputId": "a203be67-f8a7-4045-a98b-e86fdafc6d38"
      },
      "execution_count": null,
      "outputs": [
        {
          "output_type": "stream",
          "name": "stdout",
          "text": [
            "\n",
            "Final parameters after 200 iterations:\n",
            "b0:  -2.348310426667632\n",
            "b1:  0.7543269050132171\n",
            "Decision boundary:  3.1131203342488303\n",
            "final cost J = 0.3656926169192231\n"
          ]
        }
      ]
    },
    {
      "cell_type": "code",
      "source": [
        "#Plot data learned probablity curve\n",
        "x_plot=np.linspace(0,6,200)\n",
        "y_plot=sigmoid(b0+b1*x_plot)\n",
        "plt.figure(figsize=(6,3))\n",
        "plt.scatter(x,y)\n",
        "plt.plot(x_plot,y_plot)\n",
        "plt.axhline(0.5,linestyle='--')\n",
        "plt.xlabel(\"Study Hours\")\n",
        "plt.ylabel(\"P(pass)\")\n",
        "plt.title(\"Logistic Regression fit (manual gradient descent)\")\n",
        "plt.grid(True)\n",
        "plt.show()"
      ],
      "metadata": {
        "colab": {
          "base_uri": "https://localhost:8080/",
          "height": 333
        },
        "id": "Igyy1Oyv6tDX",
        "outputId": "5016df21-0554-407b-9794-9be4330bd8d8"
      },
      "execution_count": null,
      "outputs": [
        {
          "output_type": "display_data",
          "data": {
            "text/plain": [
              "<Figure size 600x300 with 1 Axes>"
            ],
            "image/png": "[encoded data removed]"
          },
          "metadata": {}
        }
      ]
    },
    {
      "cell_type": "code",
      "source": [],
      "metadata": {
        "id": "blM1zRfa7kj2"
      },
      "execution_count": null,
      "outputs": []
    }
  ]
}