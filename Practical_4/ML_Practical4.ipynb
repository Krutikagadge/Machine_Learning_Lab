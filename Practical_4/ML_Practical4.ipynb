{
  "nbformat": 4,
  "nbformat_minor": 0,
  "metadata": {
    "colab": {
      "provenance": []
    },
    "kernelspec": {
      "name": "python3",
      "display_name": "Python 3"
    },
    "language_info": {
      "name": "python"
    }
  },
  "cells": [
    {
      "cell_type": "code",
      "execution_count": null,
      "metadata": {
        "id": "od_u49EenbA3"
      },
      "outputs": [],
      "source": [
        "import numpy as np\n",
        "import pandas as pd\n",
        "import matplotlib.pyplot as plt\n",
        "import seaborn as sns\n",
        "from sklearn.datasets import load_iris"
      ]
    },
    {
      "cell_type": "code",
      "source": [
        "data = np.array([\n",
        "[2.5, 2.4, 1.2],\n",
        "[0.5, 0.7, 0.3],\n",
        "[2.2, 2.9, 1.4],\n",
        "[1.9, 2.2, 1.1],\n",
        "[3.1, 3.0, 1.7],\n",
        "[2.3, 2.7, 1.5],\n",
        "[2.0, 1.6, 0.9],\n",
        "[1.0, 1.1, 0.4],\n",
        "[1.5, 1.6, 0.8],\n",
        "[1.1, 0.9, 0.2]])\n"
      ],
      "metadata": {
        "id": "VCxvjuoGpT6k"
      },
      "execution_count": null,
      "outputs": []
    },
    {
      "cell_type": "code",
      "source": [
        "#Step2\n",
        "standardized_data = (data - np.mean()) / np.std()"
      ],
      "metadata": {
        "id": "zGGaXJ6dpwdx"
      },
      "execution_count": null,
      "outputs": []
    },
    {
      "cell_type": "code",
      "source": [
        "#Step3\n",
        "cov_matrix = np.cov(standardized_data.T)"
      ],
      "metadata": {
        "id": "0C7t50E1qh5b"
      },
      "execution_count": null,
      "outputs": []
    },
    {
      "cell_type": "code",
      "source": [
        "#step 4\n",
        "eig_values, eig_vectors = np.linalg.eigh(cov_matrix)"
      ],
      "metadata": {
        "id": "79clpmimqya6"
      },
      "execution_count": null,
      "outputs": []
    },
    {
      "cell_type": "code",
      "source": [
        "#step5\n",
        "sorted_indices = np.argsort(eig_values)[::-1]\n",
        "sorted_eig_values = eig_values[sorted_indices]\n",
        "sorted_eig_vectors = eig_vectors[:, sorted_indices]"
      ],
      "metadata": {
        "id": "7NmfxkvEq8Zp"
      },
      "execution_count": null,
      "outputs": []
    },
    {
      "cell_type": "code",
      "source": [
        "#Step6\n",
        "eig_vectors_subset = sorted_eig_vectors[:, :2]"
      ],
      "metadata": {
        "id": "V5Q0BQtErFVC"
      },
      "execution_count": null,
      "outputs": []
    },
    {
      "cell_type": "code",
      "source": [
        "#Step 7\n",
        "reduced_data = standardized_data.dot(eig_vectors_subset)"
      ],
      "metadata": {
        "id": "cEFaXOXard3x"
      },
      "execution_count": null,
      "outputs": []
    },
    {
      "cell_type": "code",
      "source": [
        "reduced_data"
      ],
      "metadata": {
        "colab": {
          "base_uri": "https://localhost:8080/"
        },
        "id": "1Jc-bOq-rqYi",
        "outputId": "a1b8acea-85dd-4826-92bb-afbdcf4b9452"
      },
      "execution_count": null,
      "outputs": [
        {
          "output_type": "execute_result",
          "data": {
            "text/plain": [
              "array([[-1.17507249, -0.30301023],\n",
              "       [ 2.63836833,  0.29383387],\n",
              "       [-1.54067712,  0.45270981],\n",
              "       [-0.45405457,  0.1715097 ],\n",
              "       [-2.65362694, -0.27420066],\n",
              "       [-1.59007585,  0.29402138],\n",
              "       [ 0.13688575, -0.42292704],\n",
              "       [ 1.84955165,  0.04558357],\n",
              "       [ 0.63695585,  0.05832801],\n",
              "       [ 2.15174539, -0.31584842]])"
            ]
          },
          "metadata": {},
          "execution_count": 10
        }
      ]
    },
    {
      "cell_type": "code",
      "source": [],
      "metadata": {
        "id": "KSFbH34AuKrq"
      },
      "execution_count": null,
      "outputs": []
    }
  ]
}